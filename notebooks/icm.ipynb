{
 "cells": [
  {
   "cell_type": "markdown",
   "metadata": {},
   "source": [
    "# Train the Networks (Siamese, Action Embeddings)"
   ]
  },
  {
   "cell_type": "markdown",
   "metadata": {},
   "source": [
    "### Imports"
   ]
  },
  {
   "cell_type": "code",
   "execution_count": 3,
   "metadata": {},
   "outputs": [],
   "source": [
    "import sys\n",
    "from pathlib import Path\n",
    "\n",
    "# Add the src folder to sys.path\n",
    "sys.path.append(str(Path().resolve().parent / \"src\"))"
   ]
  },
  {
   "cell_type": "code",
   "execution_count": 4,
   "metadata": {},
   "outputs": [],
   "source": [
    "import torch\n",
    "import torch.nn as nn\n",
    "import torch.optim as optim\n",
    "import pandas as pd\n",
    "import matplotlib.pyplot as plt\n",
    "import os\n",
    "import random\n",
    "from torchvision.transforms import functional as F\n",
    "from PIL import Image\n",
    "from custom_dataset import SasDataset\n",
    "from siamese import EncoderModel, InverseModel\n",
    "from action_embeddings import ForwardModel, EmbeddingModel\n",
    "from torchvision import transforms\n",
    "from torch.utils.data import DataLoader, random_split"
   ]
  },
  {
   "cell_type": "markdown",
   "metadata": {},
   "source": [
    "### Display random Image"
   ]
  },
  {
   "cell_type": "code",
   "execution_count": null,
   "metadata": {},
   "outputs": [
    {
     "name": "stdout",
     "output_type": "stream",
     "text": [
      "Here the random image path from the folder:\n"
     ]
    },
    {
     "data": {
      "image/jpeg": "[encoded data removed]",
      "image/png": "[encoded data removed]",
      "text/plain": [
       "<PIL.PngImagePlugin.PngImageFile image mode=RGB size=80x80>"
      ]
     },
     "metadata": {},
     "output_type": "display_data"
    },
    {
     "name": "stdout",
     "output_type": "stream",
     "text": [
      "Displayed image: ../data/states/state_1735213548910_obs_t.png\n"
     ]
    }
   ],
   "source": [
    "# https://www.geeksforgeeks.org/show-random-picture-from-a-folder-in-python/\n",
    "def get_random_image_path(folder_path):\n",
    "    try:\n",
    "        files = os.listdir(folder_path)\n",
    "        \n",
    "        images = [\n",
    "            file\n",
    "            for file in files\n",
    "            if file.lower().endswith((\".png\", \".jpg\", \".jpeg\", \".gif\"))\n",
    "        ]\n",
    "\n",
    "        if not images:\n",
    "            print(\"No images found in the specified folder.\")\n",
    "            return None\n",
    "\n",
    "        \n",
    "        random_image = random.choice(images)\n",
    "        random_image_path = os.path.join(folder_path, random_image)\n",
    "        print(f\"Here the random image path from the folder:\")\n",
    "        return random_image_path\n",
    "\n",
    "    except Exception as e:\n",
    "        print(f\"An error occurred while selecting image randomly: {e}\")\n",
    "        return None\n",
    "\n",
    "\n",
    "def display_image(image_path):\n",
    "    try:\n",
    "        if image_path and os.path.isfile(image_path):\n",
    "            with Image.open(image_path) as img:\n",
    "                img.show()\n",
    "                print(f\"Displayed image: {image_path}\")\n",
    "        else:\n",
    "            print(f\"Invalid image path: {image_path}\")\n",
    "    except Exception as e:\n",
    "        print(f\"An error occurred while displaying the image: {e}\")\n",
    "        \n",
    "def show_random_image_from_folder(folder_path):\n",
    "    random_image_path = get_random_image_path(folder_path)\n",
    "    display_image(random_image_path)\n",
    "\n",
    "\n",
    "folder_path = '../data/states'\n",
    "if os.path.isdir(folder_path):\n",
    "    show_random_image_from_folder(folder_path)\n",
    "else:\n",
    "    print(f\" The specified folder does not exist: {folder_path}\")"
   ]
  },
  {
   "cell_type": "markdown",
   "metadata": {},
   "source": [
    "### Clean Dataset"
   ]
  },
  {
   "cell_type": "code",
   "execution_count": 3,
   "metadata": {},
   "outputs": [
    {
     "name": "stdout",
     "output_type": "stream",
     "text": [
      "Invalid actions:\n",
      "                                               state  action  \\\n",
      "271               ../data/states/state_271_obs_t.png       5   \n",
      "1749             ../data/states/state_1749_obs_t.png       7   \n",
      "3049             ../data/states/state_3049_obs_t.png       8   \n",
      "3050             ../data/states/state_3050_obs_t.png       8   \n",
      "3051             ../data/states/state_3051_obs_t.png       8   \n",
      "...                                              ...     ...   \n",
      "102619  ../data/states/state_1735246030587_obs_t.png       8   \n",
      "102620  ../data/states/state_1735246030687_obs_t.png       8   \n",
      "102621  ../data/states/state_1735246030786_obs_t.png       8   \n",
      "103117  ../data/states/state_1735246080525_obs_t.png       8   \n",
      "103118  ../data/states/state_1735246080626_obs_t.png       8   \n",
      "\n",
      "                                            next_state   done  \n",
      "271               ../data/states/state_271_obs_tp1.png  False  \n",
      "1749             ../data/states/state_1749_obs_tp1.png  False  \n",
      "3049             ../data/states/state_3049_obs_tp1.png  False  \n",
      "3050             ../data/states/state_3050_obs_tp1.png  False  \n",
      "3051             ../data/states/state_3051_obs_tp1.png  False  \n",
      "...                                                ...    ...  \n",
      "102619  ../data/states/state_1735246030587_obs_tp1.png  False  \n",
      "102620  ../data/states/state_1735246030687_obs_tp1.png  False  \n",
      "102621  ../data/states/state_1735246030786_obs_tp1.png  False  \n",
      "103117  ../data/states/state_1735246080525_obs_tp1.png  False  \n",
      "103118  ../data/states/state_1735246080626_obs_tp1.png  False  \n",
      "\n",
      "[447 rows x 4 columns]\n",
      "Number of invalid actions: 447\n"
     ]
    }
   ],
   "source": [
    "# Load the dataset\n",
    "csv_file = \"../data/dataset.csv\"\n",
    "data = pd.read_csv(csv_file)\n",
    "\n",
    "# Find rows where action is outside the valid range [0, 4]\n",
    "invalid_actions = data[(data[\"action\"] < 0) | (data[\"action\"] > 4)]\n",
    "len(invalid_actions)\n",
    "\n",
    "print(\"Invalid actions:\")\n",
    "print(invalid_actions)\n",
    "\n",
    "print(\"Number of invalid actions:\", len(invalid_actions))\n"
   ]
  },
  {
   "cell_type": "code",
   "execution_count": 13,
   "metadata": {},
   "outputs": [],
   "source": [
    "data = data[(data[\"action\"] >= 0) & (data[\"action\"] <= 4)]\n",
    "data.to_csv(\"../data/dataset_cleaned.csv\", index=False)"
   ]
  },
  {
   "cell_type": "markdown",
   "metadata": {},
   "source": [
    "### Load Cleaned Dataset"
   ]
  },
  {
   "cell_type": "code",
   "execution_count": 5,
   "metadata": {},
   "outputs": [],
   "source": [
    "def crop_bottom(img, crop_height):\n",
    "    \"\"\"\n",
    "    Crop the bottom part of an image.\n",
    "\n",
    "    Args:\n",
    "        img (PIL.Image): Input image.\n",
    "        crop_height (int): The height of the region to crop from the bottom.\n",
    "\n",
    "    Returns:\n",
    "        PIL.Image: Cropped image.\n",
    "    \"\"\"\n",
    "    width, height = img.size  \n",
    "    new_height = height - crop_height\n",
    "    return F.crop(img, top=0, left=0, height=new_height, width=width)"
   ]
  },
  {
   "cell_type": "code",
   "execution_count": 6,
   "metadata": {},
   "outputs": [],
   "source": [
    "csv_dataset = \"../data/dataset_cleaned.csv\"\n",
    "transforms = transforms.Compose(\n",
    "    [\n",
    "        transforms.Lambda(lambda img: crop_bottom(img, crop_height=15)),\n",
    "        #transforms.Resize((80, 80)),\n",
    "        transforms.ToTensor(),  # Convert PIL Image to Tensor\n",
    "        # transforms.Normalize( mean=[0.5, 0.5, 0.5], std=[0.5, 0.5, 0.5] ),  # Normalize to [-1, 1] for RGB channels\n",
    "        transforms.Normalize(mean=[0.5], std=[0.5]),  # Normalize to [-1, 1] for grayscale\n",
    "    ]\n",
    ")\n",
    "\n",
    "dataset = SasDataset(csv_dataset, transforms, convert_to_grayscale=True, num_stacked_frames=4)"
   ]
  },
  {
   "cell_type": "markdown",
   "metadata": {},
   "source": [
    "Check if actions are in the correct range (0-4):"
   ]
  },
  {
   "cell_type": "code",
   "execution_count": 8,
   "metadata": {},
   "outputs": [
    {
     "name": "stdout",
     "output_type": "stream",
     "text": [
      "Action min: 0\n",
      "Action max: 4\n"
     ]
    }
   ],
   "source": [
    "print(\"Action min:\", dataset.data[\"action\"].min())\n",
    "print(\"Action max:\", dataset.data[\"action\"].max())"
   ]
  },
  {
   "cell_type": "markdown",
   "metadata": {},
   "source": [
    "Check if images got cropped correctly:"
   ]
  },
  {
   "cell_type": "code",
   "execution_count": 5,
   "metadata": {},
   "outputs": [
    {
     "name": "stderr",
     "output_type": "stream",
     "text": [
      "Clipping input data to the valid range for imshow with RGB data ([0..1] for floats or [0..255] for integers). Got range [-1.0..0.8509804].\n"
     ]
    },
    {
     "data": {
      "image/png": "[encoded data removed]",
      "text/plain": [
       "<Figure size 640x480 with 1 Axes>"
      ]
     },
     "metadata": {},
     "output_type": "display_data"
    }
   ],
   "source": [
    "# Load an example image\n",
    "img_path = \"../data/states/state_1735213548910_obs_t.png\"\n",
    "img = Image.open(img_path).convert(\"RGB\")\n",
    "\n",
    "# Apply the transformation\n",
    "transformed_img = transforms(img)\n",
    "\n",
    "# Display the transformed image\n",
    "plt.imshow(transformed_img.permute(1, 2, 0).numpy())\n",
    "plt.title(\"Transformed Image\")\n",
    "plt.axis(\"off\")\n",
    "plt.show()\n"
   ]
  },
  {
   "cell_type": "code",
   "execution_count": 7,
   "metadata": {},
   "outputs": [],
   "source": [
    "def split_dataset(dataset, TRAIN_RATIO=0.7, VAL_RATIO=0.2, TEST_RATIO=0.1):\n",
    "    \"\"\"\n",
    "    Split PyTorch Dataset into training, validation, and test sets.\n",
    "    Args:\n",
    "        dataset: PyTorch Dataset\n",
    "        TRAIN_RATIO: Float\n",
    "        VAL_RATIO: Float\n",
    "        TEST_RATIO: Float\n",
    "    Returns:\n",
    "        train_dataset: PyTorch Subset\n",
    "        val_dataset: PyTorch Subset\n",
    "        test_dataset: PyTorch Subset\n",
    "    \"\"\"\n",
    "    assert (\n",
    "        abs(TRAIN_RATIO + VAL_RATIO + TEST_RATIO - 1.0) < 1e-6\n",
    "    ), \"Ratios must sum to 1\"\n",
    "\n",
    "    # Calculate sizes for each split\n",
    "    DATASET_SIZE = len(dataset)\n",
    "    train_size = int(TRAIN_RATIO * DATASET_SIZE)\n",
    "    val_size = int(VAL_RATIO * DATASET_SIZE)\n",
    "    test_size = DATASET_SIZE - train_size - val_size  # Remaining samples for test set\n",
    "\n",
    "    # Perform the split\n",
    "    train_dataset, val_dataset, test_dataset = random_split(\n",
    "        dataset,\n",
    "        [train_size, val_size, test_size],\n",
    "        generator=torch.Generator().manual_seed(42),\n",
    "    )\n",
    "\n",
    "    return train_dataset, val_dataset, test_dataset\n",
    "\n",
    "\n",
    "train_set, valid_set, test_set = split_dataset(dataset)\n",
    "\n",
    "train_loader = DataLoader(train_set, batch_size=128, shuffle=True, num_workers=4)\n",
    "val_loader = DataLoader(valid_set, batch_size=128, shuffle=False, num_workers=4)\n",
    "test_loader = DataLoader(test_set, batch_size=128, shuffle=False, num_workers=4)"
   ]
  },
  {
   "cell_type": "code",
   "execution_count": 8,
   "metadata": {},
   "outputs": [
    {
     "name": "stdout",
     "output_type": "stream",
     "text": [
      "State shape: torch.Size([128, 4, 65, 80])\n",
      "Action shape: torch.Size([128])\n",
      "Next State shape: torch.Size([128, 4, 65, 80])\n",
      "Done shape: torch.Size([128])\n"
     ]
    }
   ],
   "source": [
    "for batch in train_loader:\n",
    "    state, action, next_state, done = batch\n",
    "    print(\"State shape:\", state.shape)  \n",
    "    print(\"Action shape:\", action.shape)  \n",
    "    print(\"Next State shape:\", next_state.shape)  \n",
    "    print(\"Done shape:\", done.shape) \n",
    "    break"
   ]
  },
  {
   "cell_type": "code",
   "execution_count": 9,
   "metadata": {},
   "outputs": [],
   "source": [
    "encoder = EncoderModel(in_channels=4, input_size=(65, 80)) # 1x4x65x80 (4 stacked grayscale frames of 80x80)\n",
    "inverse_model = InverseModel(encoder_output_dim=400, num_actions=5)\n",
    "embedding_model = EmbeddingModel(action_size=5, embedding_size=50)\n",
    "forward_model = ForwardModel(input_dim=450, output_dim=400)\n",
    "\n",
    "mse_loss = nn.MSELoss()\n",
    "cross_entropy_loss = nn.CrossEntropyLoss()\n",
    "\n",
    "optimizer = optim.Adam(\n",
    "    list(encoder.parameters()) +\n",
    "    list(embedding_model.parameters()) +\n",
    "    list(forward_model.parameters()) +\n",
    "    list(inverse_model.parameters()),\n",
    "    lr=0.001\n",
    ")"
   ]
  },
  {
   "cell_type": "code",
   "execution_count": 11,
   "metadata": {},
   "outputs": [],
   "source": [
    "def train_combined_model(train_loader, val_loader, num_epochs=10, beta=0.5):\n",
    "    \"\"\"\n",
    "    Train the combined model with forward and inverse losses, and validate on the validation set.\n",
    "\n",
    "    Args:\n",
    "        train_loader (DataLoader): DataLoader for training data.\n",
    "        val_loader (DataLoader): DataLoader for validation data.\n",
    "        num_epochs (int): Number of training epochs.\n",
    "        beta (float): Weight for balancing the two losses.\n",
    "\n",
    "    Returns:\n",
    "        dict: History of training and validation losses and accuracy.\n",
    "    \"\"\"\n",
    "    device = torch.device(\"cuda\" if torch.cuda.is_available() else \"cpu\")\n",
    "    print(f\"Training on device: {device}\")\n",
    "    encoder.to(device)\n",
    "    embedding_model.to(device)\n",
    "    forward_model.to(device)\n",
    "    inverse_model.to(device)\n",
    "\n",
    "    # Initialize history\n",
    "    history = {\n",
    "        \"train_loss\": [],\n",
    "        \"val_loss\": [],\n",
    "        \"train_accuracy\": [],\n",
    "        \"val_accuracy\": [],\n",
    "    }\n",
    "\n",
    "    for epoch in range(num_epochs):\n",
    "        # Training phase\n",
    "        encoder.train()\n",
    "        embedding_model.train()\n",
    "        forward_model.train()\n",
    "        inverse_model.train()\n",
    "\n",
    "        train_loss = 0.0\n",
    "        total_correct = 0\n",
    "        total_samples = 0\n",
    "\n",
    "        for batch in train_loader:\n",
    "            S_t, a_t, S_t_next, done = batch\n",
    "            S_t, a_t, S_t_next = (\n",
    "                S_t.to(device),\n",
    "                a_t.to(device),\n",
    "                S_t_next.to(device),\n",
    "            )\n",
    "\n",
    "            # Encode states\n",
    "            phi_S_t = encoder(S_t)\n",
    "            phi_S_t_next = encoder(S_t_next)\n",
    "\n",
    "            # Forward Model\n",
    "            a_t_embedded = embedding_model(a_t)\n",
    "            phi_hat_S_t_next = forward_model(phi_S_t, a_t_embedded)\n",
    "            forward_loss = mse_loss(phi_hat_S_t_next, phi_S_t_next)\n",
    "\n",
    "            # Inverse Model\n",
    "            logits = inverse_model(torch.cat([phi_S_t, phi_S_t_next], dim=-1))\n",
    "            inverse_loss = cross_entropy_loss(logits, a_t)\n",
    "\n",
    "            # Total Loss\n",
    "            total_loss = beta * forward_loss + (1 - beta) * inverse_loss\n",
    "            train_loss += total_loss.item()\n",
    "\n",
    "            # Compute accuracy\n",
    "            _, predicted_action = torch.max(logits, dim=1)\n",
    "            total_correct += (predicted_action == a_t).sum().item()\n",
    "            total_samples += a_t.size(0)\n",
    "\n",
    "            # Backward Pass and Optimization\n",
    "            optimizer.zero_grad()\n",
    "            total_loss.backward()\n",
    "            optimizer.step()\n",
    "\n",
    "        # Compute training accuracy\n",
    "        train_accuracy = total_correct / total_samples\n",
    "\n",
    "        # Validation phase\n",
    "        encoder.eval()\n",
    "        embedding_model.eval()\n",
    "        forward_model.eval()\n",
    "        inverse_model.eval()\n",
    "\n",
    "        val_loss = 0.0\n",
    "        total_correct = 0\n",
    "        total_samples = 0\n",
    "\n",
    "        with torch.no_grad():\n",
    "            for batch in val_loader:\n",
    "                S_t, a_t, S_t_next, done = batch\n",
    "                S_t, a_t, S_t_next = (\n",
    "                    S_t.to(device),\n",
    "                    a_t.to(device),\n",
    "                    S_t_next.to(device),\n",
    "                )\n",
    "\n",
    "                # Encode states\n",
    "                phi_S_t = encoder(S_t)\n",
    "                phi_S_t_next = encoder(S_t_next)\n",
    "\n",
    "                # Forward Model\n",
    "                a_t_embedded = embedding_model(a_t)\n",
    "                phi_hat_S_t_next = forward_model(phi_S_t, a_t_embedded)\n",
    "                forward_loss = mse_loss(phi_hat_S_t_next, phi_S_t_next)\n",
    "\n",
    "                # Inverse Model\n",
    "                logits = inverse_model(torch.cat([phi_S_t, phi_S_t_next], dim=-1))\n",
    "                inverse_loss = cross_entropy_loss(logits, a_t)\n",
    "\n",
    "                # Total Loss\n",
    "                total_loss = beta * forward_loss + (1 - beta) * inverse_loss\n",
    "                val_loss += total_loss.item()\n",
    "\n",
    "                # Compute accuracy\n",
    "                _, predicted_action = torch.max(logits, dim=1)\n",
    "                total_correct += (predicted_action == a_t).sum().item()\n",
    "                total_samples += a_t.size(0)\n",
    "\n",
    "        # Compute validation accuracy\n",
    "        val_accuracy = total_correct / total_samples\n",
    "\n",
    "        # Record metrics\n",
    "        history[\"train_loss\"].append(train_loss / len(train_loader))\n",
    "        history[\"val_loss\"].append(val_loss / len(val_loader))\n",
    "        history[\"train_accuracy\"].append(train_accuracy)\n",
    "        history[\"val_accuracy\"].append(val_accuracy)\n",
    "\n",
    "        print(\n",
    "            f\"Epoch {epoch+1}/{num_epochs} | \"\n",
    "            f\"Train Loss: {history['train_loss'][-1]:.4f} | \"\n",
    "            f\"Val Loss: {history['val_loss'][-1]:.4f} | \"\n",
    "            f\"Train Acc: {history['train_accuracy'][-1]:.2%} | \"\n",
    "            f\"Val Acc: {history['val_accuracy'][-1]:.2%}\"\n",
    "        )\n",
    "\n",
    "    return history\n"
   ]
  },
  {
   "cell_type": "code",
   "execution_count": 12,
   "metadata": {},
   "outputs": [
    {
     "name": "stdout",
     "output_type": "stream",
     "text": [
      "Training on device: cuda\n",
      "Epoch 1/10, Train Loss: 0.3978, Validation Loss: 0.3497\n",
      "Epoch 2/10, Train Loss: 0.2955, Validation Loss: 0.2681\n",
      "Epoch 3/10, Train Loss: 0.2460, Validation Loss: 0.2420\n",
      "Epoch 4/10, Train Loss: 0.2255, Validation Loss: 0.2341\n",
      "Epoch 5/10, Train Loss: 0.2133, Validation Loss: 0.2238\n",
      "Epoch 6/10, Train Loss: 0.2037, Validation Loss: 0.2226\n",
      "Epoch 7/10, Train Loss: 0.1968, Validation Loss: 0.2188\n",
      "Epoch 8/10, Train Loss: 0.1905, Validation Loss: 0.2176\n",
      "Epoch 9/10, Train Loss: 0.1853, Validation Loss: 0.2189\n",
      "Epoch 10/10, Train Loss: 0.1790, Validation Loss: 0.2248\n",
      "Training complete!\n"
     ]
    }
   ],
   "source": [
    "history = train_combined_model(train_loader, num_epochs=10, beta=0.3)"
   ]
  },
  {
   "cell_type": "code",
   "execution_count": null,
   "metadata": {},
   "outputs": [],
   "source": [
    "def plot_train_history(history):\n",
    "    # Plot the losses\n",
    "    plt.figure(figsize=(10, 5))\n",
    "    plt.plot(history[\"train_loss\"], label=\"Train Loss\")\n",
    "    plt.plot(history[\"val_loss\"], label=\"Validation Loss\")\n",
    "    plt.xlabel(\"Epochs\")\n",
    "    plt.ylabel(\"Loss\")\n",
    "    plt.title(\"Loss Over Epochs\")\n",
    "    plt.legend()\n",
    "    plt.show()\n",
    "\n",
    "    # Plot the accuracies\n",
    "    plt.figure(figsize=(10, 5))\n",
    "    plt.plot(history[\"train_accuracy\"], label=\"Train Accuracy\")\n",
    "    plt.plot(history[\"val_accuracy\"], label=\"Validation Accuracy\")\n",
    "    plt.xlabel(\"Epochs\")\n",
    "    plt.ylabel(\"Accuracy\")\n",
    "    plt.title(\"Accuracy Over Epochs\")\n",
    "    plt.legend()\n",
    "    plt.show()\n",
    "\n",
    "plot_train_history(history)"
   ]
  },
  {
   "cell_type": "code",
   "execution_count": 13,
   "metadata": {},
   "outputs": [
    {
     "name": "stdout",
     "output_type": "stream",
     "text": [
      "Models saved successfully!\n"
     ]
    }
   ],
   "source": [
    "torch.save(encoder.state_dict(), \"../model-checkpoints/encoder.pth\")\n",
    "torch.save(embedding_model.state_dict(), \"../model-checkpoints/embedding_model.pth\")\n",
    "torch.save(forward_model.state_dict(), \"../model-checkpoints/forward_model.pth\")\n",
    "torch.save(inverse_model.state_dict(), \"../model-checkpoints/inverse_model.pth\")\n",
    "print(\"Models saved successfully!\")"
   ]
  },
  {
   "cell_type": "code",
   "execution_count": 14,
   "metadata": {},
   "outputs": [],
   "source": [
    "def evaluate_model(encoder, forward_model, inverse_model, test_loader, beta=0.5):\n",
    "    \"\"\"\n",
    "    Evaluate the model on the test dataset.\n",
    "\n",
    "    Args:\n",
    "        encoder (nn.Module): Encoder model.\n",
    "        forward_model (nn.Module): Forward model.\n",
    "        inverse_model (nn.Module): Inverse model.\n",
    "        test_loader (DataLoader): DataLoader for the test dataset.\n",
    "        beta (float): Weight for combining forward and inverse losses.\n",
    "\n",
    "    Returns:\n",
    "        dict: Evaluation metrics (average loss, forward loss, inverse loss, accuracy).\n",
    "    \"\"\"\n",
    "    device = torch.device(\"cuda\" if torch.cuda.is_available() else \"cpu\")\n",
    "    print(f\"Evaluating on device: {device}\")\n",
    "    \n",
    "    # Set models to evaluation mode\n",
    "    encoder.eval()\n",
    "    forward_model.eval()\n",
    "    inverse_model.eval()\n",
    "\n",
    "    # Move models to the appropriate device\n",
    "    encoder = encoder.to(device)\n",
    "    forward_model = forward_model.to(device)\n",
    "    inverse_model = inverse_model.to(device)\n",
    "\n",
    "    # Loss functions\n",
    "    mse_loss = torch.nn.MSELoss()\n",
    "    cross_entropy_loss = torch.nn.CrossEntropyLoss()\n",
    "\n",
    "    total_loss = 0.0\n",
    "    total_forward_loss = 0.0\n",
    "    total_inverse_loss = 0.0\n",
    "    total_correct = 0\n",
    "    total_samples = 0\n",
    "\n",
    "    with torch.no_grad():  # Disable gradient computation\n",
    "        for batch in test_loader:\n",
    "            state, action, next_state, done = batch\n",
    "            state, action, next_state = (\n",
    "                state.to(device),\n",
    "                action.to(device),\n",
    "                next_state.to(device),\n",
    "            )\n",
    "\n",
    "            # Encode states\n",
    "            phi_S_t = encoder(state)\n",
    "            phi_S_t_next = encoder(next_state)\n",
    "\n",
    "            # Forward Model: Predict next state embedding\n",
    "            action_embedded = embedding_model(action)\n",
    "            phi_hat_S_t_next = forward_model(phi_S_t, action_embedded)\n",
    "            forward_loss = mse_loss(phi_hat_S_t_next, phi_S_t_next)\n",
    "\n",
    "            # Inverse Model: Predict action\n",
    "            logits = inverse_model(torch.cat([phi_S_t, phi_S_t_next], dim=-1))\n",
    "            inverse_loss = cross_entropy_loss(logits, action)\n",
    "\n",
    "            # Combined loss\n",
    "            loss = beta * forward_loss + (1 - beta) * inverse_loss\n",
    "            total_loss += loss.item()\n",
    "            total_forward_loss += forward_loss.item()\n",
    "            total_inverse_loss += inverse_loss.item()\n",
    "\n",
    "            # Compute accuracy for inverse model\n",
    "            _, predicted_action = torch.max(logits, dim=1)\n",
    "            total_correct += (predicted_action == action).sum().item()\n",
    "            total_samples += action.size(0)\n",
    "\n",
    "    # Compute average losses and accuracy\n",
    "    avg_loss = total_loss / len(test_loader)\n",
    "    avg_forward_loss = total_forward_loss / len(test_loader)\n",
    "    avg_inverse_loss = total_inverse_loss / len(test_loader)\n",
    "    accuracy = total_correct / total_samples\n",
    "\n",
    "    return {\n",
    "        \"average_loss\": avg_loss,\n",
    "        \"forward_loss\": avg_forward_loss,\n",
    "        \"inverse_loss\": avg_inverse_loss,\n",
    "        \"accuracy\": accuracy,\n",
    "    }\n"
   ]
  },
  {
   "cell_type": "code",
   "execution_count": 15,
   "metadata": {},
   "outputs": [
    {
     "name": "stderr",
     "output_type": "stream",
     "text": [
      "/tmp/ipykernel_58142/1987970483.py:5: FutureWarning: You are using `torch.load` with `weights_only=False` (the current default value), which uses the default pickle module implicitly. It is possible to construct malicious pickle data which will execute arbitrary code during unpickling (See https://github.com/pytorch/pytorch/blob/main/SECURITY.md#untrusted-models for more details). In a future release, the default value for `weights_only` will be flipped to `True`. This limits the functions that could be executed during unpickling. Arbitrary objects will no longer be allowed to be loaded via this mode unless they are explicitly allowlisted by the user via `torch.serialization.add_safe_globals`. We recommend you start setting `weights_only=True` for any use case where you don't have full control of the loaded file. Please open an issue on GitHub for any issues related to this experimental feature.\n",
      "  encoder.load_state_dict(torch.load(\"../model-checkpoints/encoder.pth\"))\n",
      "/tmp/ipykernel_58142/1987970483.py:6: FutureWarning: You are using `torch.load` with `weights_only=False` (the current default value), which uses the default pickle module implicitly. It is possible to construct malicious pickle data which will execute arbitrary code during unpickling (See https://github.com/pytorch/pytorch/blob/main/SECURITY.md#untrusted-models for more details). In a future release, the default value for `weights_only` will be flipped to `True`. This limits the functions that could be executed during unpickling. Arbitrary objects will no longer be allowed to be loaded via this mode unless they are explicitly allowlisted by the user via `torch.serialization.add_safe_globals`. We recommend you start setting `weights_only=True` for any use case where you don't have full control of the loaded file. Please open an issue on GitHub for any issues related to this experimental feature.\n",
      "  forward_model.load_state_dict(torch.load(\"../model-checkpoints/forward_model.pth\"))\n",
      "/tmp/ipykernel_58142/1987970483.py:7: FutureWarning: You are using `torch.load` with `weights_only=False` (the current default value), which uses the default pickle module implicitly. It is possible to construct malicious pickle data which will execute arbitrary code during unpickling (See https://github.com/pytorch/pytorch/blob/main/SECURITY.md#untrusted-models for more details). In a future release, the default value for `weights_only` will be flipped to `True`. This limits the functions that could be executed during unpickling. Arbitrary objects will no longer be allowed to be loaded via this mode unless they are explicitly allowlisted by the user via `torch.serialization.add_safe_globals`. We recommend you start setting `weights_only=True` for any use case where you don't have full control of the loaded file. Please open an issue on GitHub for any issues related to this experimental feature.\n",
      "  inverse_model.load_state_dict(torch.load(\"../model-checkpoints/inverse_model.pth\"))\n"
     ]
    },
    {
     "data": {
      "text/plain": [
       "<All keys matched successfully>"
      ]
     },
     "execution_count": 15,
     "metadata": {},
     "output_type": "execute_result"
    }
   ],
   "source": [
    "encoder = EncoderModel(in_channels=4, input_size=(65, 80))\n",
    "forward_model = ForwardModel(input_dim=450, output_dim=400)\n",
    "inverse_model = InverseModel(encoder_output_dim=400, num_actions=5)\n",
    "\n",
    "encoder.load_state_dict(torch.load(\"../model-checkpoints/encoder.pth\"))\n",
    "forward_model.load_state_dict(torch.load(\"../model-checkpoints/forward_model.pth\"))\n",
    "inverse_model.load_state_dict(torch.load(\"../model-checkpoints/inverse_model.pth\"))"
   ]
  },
  {
   "cell_type": "code",
   "execution_count": 16,
   "metadata": {},
   "outputs": [
    {
     "name": "stdout",
     "output_type": "stream",
     "text": [
      "Evaluating on device: cuda\n",
      "Test Loss: 0.3719\n",
      "Test Forward Loss: 0.0015\n",
      "Test Inverse Loss: 0.7422\n",
      "Test Accuracy: 70.59%\n"
     ]
    }
   ],
   "source": [
    "\n",
    "metrics = evaluate_model(encoder, forward_model, inverse_model, test_loader, beta=0.5)\n",
    "print(f\"Test Loss: {metrics['average_loss']:.4f}\")\n",
    "print(f\"Test Forward Loss: {metrics['forward_loss']:.4f}\")\n",
    "print(f\"Test Inverse Loss: {metrics['inverse_loss']:.4f}\")\n",
    "print(f\"Test Accuracy: {metrics['accuracy']:.2%}\")"
   ]
  },
  {
   "cell_type": "code",
   "execution_count": null,
   "metadata": {},
   "outputs": [],
   "source": []
  }
 ],
 "metadata": {
  "kernelspec": {
   "display_name": "gym-env",
   "language": "python",
   "name": "python3"
  },
  "language_info": {
   "codemirror_mode": {
    "name": "ipython",
    "version": 3
   },
   "file_extension": ".py",
   "mimetype": "text/x-python",
   "name": "python",
   "nbconvert_exporter": "python",
   "pygments_lexer": "ipython3",
   "version": "3.10.12"
  }
 },
 "nbformat": 4,
 "nbformat_minor": 2
}
